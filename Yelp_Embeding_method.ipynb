{
 "cells": [
  {
   "cell_type": "markdown",
   "metadata": {},
   "source": [
    "# Embedding Method"
   ]
  },
  {
   "cell_type": "code",
   "execution_count": 1,
   "metadata": {},
   "outputs": [
    {
     "name": "stdout",
     "output_type": "stream",
     "text": [
      "Populating the interactive namespace from numpy and matplotlib\n"
     ]
    }
   ],
   "source": [
    "import numpy as np\n",
    "import pandas as pd\n",
    "import seaborn as sns\n",
    "import matplotlib.pyplot as plt \n",
    "%matplotlib inline\n",
    "%pylab inline"
   ]
  },
  {
   "cell_type": "code",
   "execution_count": 2,
   "metadata": {},
   "outputs": [
    {
     "data": {
      "text/html": [
       "<div>\n",
       "<style scoped>\n",
       "    .dataframe tbody tr th:only-of-type {\n",
       "        vertical-align: middle;\n",
       "    }\n",
       "\n",
       "    .dataframe tbody tr th {\n",
       "        vertical-align: top;\n",
       "    }\n",
       "\n",
       "    .dataframe thead th {\n",
       "        text-align: right;\n",
       "    }\n",
       "</style>\n",
       "<table border=\"1\" class=\"dataframe\">\n",
       "  <thead>\n",
       "    <tr style=\"text-align: right;\">\n",
       "      <th></th>\n",
       "      <th>Unnamed: 0</th>\n",
       "      <th>review_id</th>\n",
       "      <th>text</th>\n",
       "      <th>stars</th>\n",
       "    </tr>\n",
       "  </thead>\n",
       "  <tbody>\n",
       "    <tr>\n",
       "      <th>0</th>\n",
       "      <td>48469</td>\n",
       "      <td>Nh3b72ycaDuPp9JzKHUt5A</td>\n",
       "      <td>I love this store. Ive been shopping here for ...</td>\n",
       "      <td>5.0</td>\n",
       "    </tr>\n",
       "    <tr>\n",
       "      <th>1</th>\n",
       "      <td>263807</td>\n",
       "      <td>j-4-gLG0VkXGnS1zgeQfew</td>\n",
       "      <td>I have ate a lot of burgers in my time. This i...</td>\n",
       "      <td>5.0</td>\n",
       "    </tr>\n",
       "    <tr>\n",
       "      <th>2</th>\n",
       "      <td>181423</td>\n",
       "      <td>bs2CF6EJI9jK6KnTXPKyNw</td>\n",
       "      <td>I spent 3 months searching for a dog walker wh...</td>\n",
       "      <td>5.0</td>\n",
       "    </tr>\n",
       "    <tr>\n",
       "      <th>3</th>\n",
       "      <td>58676</td>\n",
       "      <td>nUCE_Nqidcxs-zCUvz0aJw</td>\n",
       "      <td>Just stayed here for a second time and overall...</td>\n",
       "      <td>4.0</td>\n",
       "    </tr>\n",
       "    <tr>\n",
       "      <th>4</th>\n",
       "      <td>284908</td>\n",
       "      <td>OrBX9I8-QxIvaHG4euw4cQ</td>\n",
       "      <td>For right now I would have to rate this specif...</td>\n",
       "      <td>1.0</td>\n",
       "    </tr>\n",
       "  </tbody>\n",
       "</table>\n",
       "</div>"
      ],
      "text/plain": [
       "  Unnamed: 0               review_id  \\\n",
       "0      48469  Nh3b72ycaDuPp9JzKHUt5A   \n",
       "1     263807  j-4-gLG0VkXGnS1zgeQfew   \n",
       "2     181423  bs2CF6EJI9jK6KnTXPKyNw   \n",
       "3      58676  nUCE_Nqidcxs-zCUvz0aJw   \n",
       "4     284908  OrBX9I8-QxIvaHG4euw4cQ   \n",
       "\n",
       "                                                text  stars  \n",
       "0  I love this store. Ive been shopping here for ...    5.0  \n",
       "1  I have ate a lot of burgers in my time. This i...    5.0  \n",
       "2  I spent 3 months searching for a dog walker wh...    5.0  \n",
       "3  Just stayed here for a second time and overall...    4.0  \n",
       "4  For right now I would have to rate this specif...    1.0  "
      ]
     },
     "execution_count": 2,
     "metadata": {},
     "output_type": "execute_result"
    }
   ],
   "source": [
    "df = pd.read_csv('/Users/zhanfengzhao/Desktop/final_dataset.csv')\n",
    "df.head()"
   ]
  },
  {
   "cell_type": "code",
   "execution_count": 3,
   "metadata": {
    "colab": {
     "base_uri": "https://localhost:8080/",
     "height": 1000
    },
    "executionInfo": {
     "elapsed": 10885,
     "status": "ok",
     "timestamp": 1597585590491,
     "user": {
      "displayName": "Sanjiv Das",
      "photoUrl": "https://lh3.googleusercontent.com/a-/AOh14GhgUU3RgThSxLUq6NKSN2tDGDl8IQdtHMvdaZPE=s64",
      "userId": "06377870171053566924"
     },
     "user_tz": 420
    },
    "id": "Xx2GuEUpLZ3d",
    "outputId": "a14f36c9-774a-4aa8-f15e-c742fa1e3f9e",
    "scrolled": true,
    "slideshow": {
     "slide_type": "slide"
    }
   },
   "outputs": [
    {
     "name": "stdout",
     "output_type": "stream",
     "text": [
      "Collecting gensim\n",
      "  Using cached gensim-3.8.3-cp37-cp37m-macosx_10_9_x86_64.whl (24.2 MB)\n",
      "Requirement already satisfied: numpy>=1.11.3 in ./opt/anaconda3/lib/python3.7/site-packages (from gensim) (1.19.2)\n",
      "Requirement already satisfied: scipy>=0.18.1 in ./opt/anaconda3/lib/python3.7/site-packages (from gensim) (1.5.2)\n",
      "Collecting smart-open>=1.8.1\n",
      "  Downloading smart_open-4.0.1.tar.gz (117 kB)\n",
      "\u001b[K     |████████████████████████████████| 117 kB 5.2 MB/s eta 0:00:01\n",
      "\u001b[?25hRequirement already satisfied: six>=1.5.0 in ./opt/anaconda3/lib/python3.7/site-packages (from gensim) (1.15.0)\n",
      "Building wheels for collected packages: smart-open\n",
      "  Building wheel for smart-open (setup.py) ... \u001b[?25ldone\n",
      "\u001b[?25h  Created wheel for smart-open: filename=smart_open-4.0.1-py3-none-any.whl size=108247 sha256=178c4fe0cf342350c1d770e7f9884f6bee8478d1e636dd1578ba195a38eafefe\n",
      "  Stored in directory: /Users/zhanfengzhao/Library/Caches/pip/wheels/34/3d/14/f19c01a19c9201cdb6a76b049904d5226912569be919ad1eae\n",
      "Successfully built smart-open\n",
      "Installing collected packages: smart-open, gensim\n",
      "Successfully installed gensim-3.8.3 smart-open-4.0.1\n"
     ]
    }
   ],
   "source": [
    "# See Transformers from Hugging Face: https://huggingface.co/transformers/ \n",
    "# Simple Transformers: https://github.com/ThilinaRajapakse/simpletransformers\n",
    "\n",
    "!pip install gensim\n",
    "#!pip install transformers"
   ]
  },
  {
   "cell_type": "code",
   "execution_count": 4,
   "metadata": {
    "id": "9KjI4j8ULZ3g",
    "slideshow": {
     "slide_type": "slide"
    }
   },
   "outputs": [],
   "source": [
    "import json\n",
    "from sklearn import feature_extraction, feature_selection, metrics\n",
    "from sklearn import model_selection, naive_bayes, pipeline, manifold, preprocessing\n",
    "import gensim\n",
    "import gensim.downloader as gensim_api\n",
    "#from tensorflow.keras import models, layers, preprocessing as kprocessing\n",
    "#from tensorflow.keras import backend as K\n",
    "#from tensorflow.keras.utils import plot_model\n",
    "#import transformers"
   ]
  },
  {
   "cell_type": "code",
   "execution_count": 5,
   "metadata": {
    "colab": {
     "base_uri": "https://localhost:8080/",
     "height": 93
    },
    "executionInfo": {
     "elapsed": 1674,
     "status": "ok",
     "timestamp": 1597585636753,
     "user": {
      "displayName": "Sanjiv Das",
      "photoUrl": "https://lh3.googleusercontent.com/a-/AOh14GhgUU3RgThSxLUq6NKSN2tDGDl8IQdtHMvdaZPE=s64",
      "userId": "06377870171053566924"
     },
     "user_tz": 420
    },
    "id": "rCt7nU8FLZ3j",
    "outputId": "762448a3-0b45-46f9-da8c-f6125ec523f5",
    "scrolled": false,
    "slideshow": {
     "slide_type": "slide"
    }
   },
   "outputs": [
    {
     "name": "stderr",
     "output_type": "stream",
     "text": [
      "[nltk_data] Downloading package stopwords to\n",
      "[nltk_data]     /Users/zhanfengzhao/nltk_data...\n",
      "[nltk_data]   Package stopwords is already up-to-date!\n",
      "[nltk_data] Downloading package wordnet to\n",
      "[nltk_data]     /Users/zhanfengzhao/nltk_data...\n",
      "[nltk_data]   Unzipping corpora/wordnet.zip.\n"
     ]
    }
   ],
   "source": [
    "import re\n",
    "import nltk\n",
    "nltk.download(\"stopwords\")\n",
    "nltk.download(\"wordnet\")\n",
    "stopwords = nltk.corpus.stopwords.words(\"english\")\n"
   ]
  },
  {
   "cell_type": "code",
   "execution_count": 6,
   "metadata": {
    "id": "7yQJpCWxLZ3n",
    "slideshow": {
     "slide_type": "slide"
    }
   },
   "outputs": [],
   "source": [
    "# Use texthero as an alternative text cleaner\n",
    "\n",
    "def removeNumbersStr(s):\n",
    "    for c in range(10):\n",
    "        n = str(c)\n",
    "        s = s.replace(n,\" \")\n",
    "    return s\n",
    "\n",
    "def cleanText(text, stem=False, lemm=True, stop=True):\n",
    "    text = re.sub(r'[^\\w\\s]', '', str(text).lower().strip())  # remove stuff\n",
    "    text = removeNumbersStr(text)\n",
    "    text = text.split()  # tokenize\n",
    "    if stop is not None:  # remove stopwords\n",
    "        text = [word for word in text if word not in stopwords]\n",
    "    if stem == True:  # stemming\n",
    "        ps = nltk.stem.porter.PorterStemmer()\n",
    "        text = [ps.stem(word) for word in text]\n",
    "    if lemm == True:\n",
    "        lem = nltk.stem.wordnet.WordNetLemmatizer()\n",
    "        text = [lem.lemmatize(word) for word in text]\n",
    "    text = \" \".join(text) \n",
    "    return text"
   ]
  },
  {
   "cell_type": "code",
   "execution_count": 7,
   "metadata": {
    "colab": {
     "base_uri": "https://localhost:8080/",
     "height": 223
    },
    "executionInfo": {
     "elapsed": 2681,
     "status": "ok",
     "timestamp": 1597585649133,
     "user": {
      "displayName": "Sanjiv Das",
      "photoUrl": "https://lh3.googleusercontent.com/a-/AOh14GhgUU3RgThSxLUq6NKSN2tDGDl8IQdtHMvdaZPE=s64",
      "userId": "06377870171053566924"
     },
     "user_tz": 420
    },
    "id": "YmwtKAWiLZ3q",
    "outputId": "410a1efc-d12b-43a2-876b-520dc146598c",
    "slideshow": {
     "slide_type": "slide"
    }
   },
   "outputs": [
    {
     "name": "stdout",
     "output_type": "stream",
     "text": [
      "(106717, 5)\n"
     ]
    },
    {
     "data": {
      "text/html": [
       "<div>\n",
       "<style scoped>\n",
       "    .dataframe tbody tr th:only-of-type {\n",
       "        vertical-align: middle;\n",
       "    }\n",
       "\n",
       "    .dataframe tbody tr th {\n",
       "        vertical-align: top;\n",
       "    }\n",
       "\n",
       "    .dataframe thead th {\n",
       "        text-align: right;\n",
       "    }\n",
       "</style>\n",
       "<table border=\"1\" class=\"dataframe\">\n",
       "  <thead>\n",
       "    <tr style=\"text-align: right;\">\n",
       "      <th></th>\n",
       "      <th>Unnamed: 0</th>\n",
       "      <th>review_id</th>\n",
       "      <th>text</th>\n",
       "      <th>stars</th>\n",
       "      <th>cleanTxt</th>\n",
       "    </tr>\n",
       "  </thead>\n",
       "  <tbody>\n",
       "    <tr>\n",
       "      <th>0</th>\n",
       "      <td>48469</td>\n",
       "      <td>Nh3b72ycaDuPp9JzKHUt5A</td>\n",
       "      <td>I love this store. Ive been shopping here for ...</td>\n",
       "      <td>5.0</td>\n",
       "      <td>love store ive shopping year daughter amazing ...</td>\n",
       "    </tr>\n",
       "    <tr>\n",
       "      <th>1</th>\n",
       "      <td>263807</td>\n",
       "      <td>j-4-gLG0VkXGnS1zgeQfew</td>\n",
       "      <td>I have ate a lot of burgers in my time. This i...</td>\n",
       "      <td>5.0</td>\n",
       "      <td>ate lot burger time best burger ever aaa burge...</td>\n",
       "    </tr>\n",
       "    <tr>\n",
       "      <th>2</th>\n",
       "      <td>181423</td>\n",
       "      <td>bs2CF6EJI9jK6KnTXPKyNw</td>\n",
       "      <td>I spent 3 months searching for a dog walker wh...</td>\n",
       "      <td>5.0</td>\n",
       "      <td>spent month searching dog walker first moved t...</td>\n",
       "    </tr>\n",
       "    <tr>\n",
       "      <th>3</th>\n",
       "      <td>58676</td>\n",
       "      <td>nUCE_Nqidcxs-zCUvz0aJw</td>\n",
       "      <td>Just stayed here for a second time and overall...</td>\n",
       "      <td>4.0</td>\n",
       "      <td>stayed second time overall good two night room...</td>\n",
       "    </tr>\n",
       "    <tr>\n",
       "      <th>4</th>\n",
       "      <td>284908</td>\n",
       "      <td>OrBX9I8-QxIvaHG4euw4cQ</td>\n",
       "      <td>For right now I would have to rate this specif...</td>\n",
       "      <td>1.0</td>\n",
       "      <td>right would rate specific store one star drive...</td>\n",
       "    </tr>\n",
       "  </tbody>\n",
       "</table>\n",
       "</div>"
      ],
      "text/plain": [
       "  Unnamed: 0               review_id  \\\n",
       "0      48469  Nh3b72ycaDuPp9JzKHUt5A   \n",
       "1     263807  j-4-gLG0VkXGnS1zgeQfew   \n",
       "2     181423  bs2CF6EJI9jK6KnTXPKyNw   \n",
       "3      58676  nUCE_Nqidcxs-zCUvz0aJw   \n",
       "4     284908  OrBX9I8-QxIvaHG4euw4cQ   \n",
       "\n",
       "                                                text  stars  \\\n",
       "0  I love this store. Ive been shopping here for ...    5.0   \n",
       "1  I have ate a lot of burgers in my time. This i...    5.0   \n",
       "2  I spent 3 months searching for a dog walker wh...    5.0   \n",
       "3  Just stayed here for a second time and overall...    4.0   \n",
       "4  For right now I would have to rate this specif...    1.0   \n",
       "\n",
       "                                            cleanTxt  \n",
       "0  love store ive shopping year daughter amazing ...  \n",
       "1  ate lot burger time best burger ever aaa burge...  \n",
       "2  spent month searching dog walker first moved t...  \n",
       "3  stayed second time overall good two night room...  \n",
       "4  right would rate specific store one star drive...  "
      ]
     },
     "execution_count": 7,
     "metadata": {},
     "output_type": "execute_result"
    }
   ],
   "source": [
    "df[\"cleanTxt\"] = [cleanText(df.text[j]) for j in range(len(df.stars))]\n",
    "print(df.shape)\n",
    "df.head()"
   ]
  },
  {
   "cell_type": "markdown",
   "metadata": {},
   "source": [
    "# Model - Binary(mean)"
   ]
  },
  {
   "cell_type": "markdown",
   "metadata": {},
   "source": [
    "## 1.Using Embeddings"
   ]
  },
  {
   "cell_type": "code",
   "execution_count": 8,
   "metadata": {},
   "outputs": [],
   "source": [
    "mean=df.stars.mean()"
   ]
  },
  {
   "cell_type": "code",
   "execution_count": 9,
   "metadata": {},
   "outputs": [
    {
     "data": {
      "text/plain": [
       "3.5579534273532305"
      ]
     },
     "execution_count": 9,
     "metadata": {},
     "output_type": "execute_result"
    }
   ],
   "source": [
    "mean"
   ]
  },
  {
   "cell_type": "code",
   "execution_count": 10,
   "metadata": {},
   "outputs": [],
   "source": [
    "def toBinary(x):\n",
    "    if x <= mean:\n",
    "        return 0\n",
    "    else:\n",
    "        return 1"
   ]
  },
  {
   "cell_type": "code",
   "execution_count": 11,
   "metadata": {},
   "outputs": [],
   "source": [
    "df['sentiment'] = df.stars.apply(toBinary)"
   ]
  },
  {
   "cell_type": "code",
   "execution_count": 12,
   "metadata": {},
   "outputs": [
    {
     "data": {
      "text/html": [
       "<div>\n",
       "<style scoped>\n",
       "    .dataframe tbody tr th:only-of-type {\n",
       "        vertical-align: middle;\n",
       "    }\n",
       "\n",
       "    .dataframe tbody tr th {\n",
       "        vertical-align: top;\n",
       "    }\n",
       "\n",
       "    .dataframe thead th {\n",
       "        text-align: right;\n",
       "    }\n",
       "</style>\n",
       "<table border=\"1\" class=\"dataframe\">\n",
       "  <thead>\n",
       "    <tr style=\"text-align: right;\">\n",
       "      <th></th>\n",
       "      <th>Unnamed: 0</th>\n",
       "      <th>review_id</th>\n",
       "      <th>text</th>\n",
       "      <th>stars</th>\n",
       "      <th>cleanTxt</th>\n",
       "      <th>sentiment</th>\n",
       "    </tr>\n",
       "  </thead>\n",
       "  <tbody>\n",
       "    <tr>\n",
       "      <th>0</th>\n",
       "      <td>48469</td>\n",
       "      <td>Nh3b72ycaDuPp9JzKHUt5A</td>\n",
       "      <td>I love this store. Ive been shopping here for ...</td>\n",
       "      <td>5.0</td>\n",
       "      <td>love store ive shopping year daughter amazing ...</td>\n",
       "      <td>1</td>\n",
       "    </tr>\n",
       "    <tr>\n",
       "      <th>1</th>\n",
       "      <td>263807</td>\n",
       "      <td>j-4-gLG0VkXGnS1zgeQfew</td>\n",
       "      <td>I have ate a lot of burgers in my time. This i...</td>\n",
       "      <td>5.0</td>\n",
       "      <td>ate lot burger time best burger ever aaa burge...</td>\n",
       "      <td>1</td>\n",
       "    </tr>\n",
       "    <tr>\n",
       "      <th>2</th>\n",
       "      <td>181423</td>\n",
       "      <td>bs2CF6EJI9jK6KnTXPKyNw</td>\n",
       "      <td>I spent 3 months searching for a dog walker wh...</td>\n",
       "      <td>5.0</td>\n",
       "      <td>spent month searching dog walker first moved t...</td>\n",
       "      <td>1</td>\n",
       "    </tr>\n",
       "    <tr>\n",
       "      <th>3</th>\n",
       "      <td>58676</td>\n",
       "      <td>nUCE_Nqidcxs-zCUvz0aJw</td>\n",
       "      <td>Just stayed here for a second time and overall...</td>\n",
       "      <td>4.0</td>\n",
       "      <td>stayed second time overall good two night room...</td>\n",
       "      <td>1</td>\n",
       "    </tr>\n",
       "    <tr>\n",
       "      <th>4</th>\n",
       "      <td>284908</td>\n",
       "      <td>OrBX9I8-QxIvaHG4euw4cQ</td>\n",
       "      <td>For right now I would have to rate this specif...</td>\n",
       "      <td>1.0</td>\n",
       "      <td>right would rate specific store one star drive...</td>\n",
       "      <td>0</td>\n",
       "    </tr>\n",
       "  </tbody>\n",
       "</table>\n",
       "</div>"
      ],
      "text/plain": [
       "  Unnamed: 0               review_id  \\\n",
       "0      48469  Nh3b72ycaDuPp9JzKHUt5A   \n",
       "1     263807  j-4-gLG0VkXGnS1zgeQfew   \n",
       "2     181423  bs2CF6EJI9jK6KnTXPKyNw   \n",
       "3      58676  nUCE_Nqidcxs-zCUvz0aJw   \n",
       "4     284908  OrBX9I8-QxIvaHG4euw4cQ   \n",
       "\n",
       "                                                text  stars  \\\n",
       "0  I love this store. Ive been shopping here for ...    5.0   \n",
       "1  I have ate a lot of burgers in my time. This i...    5.0   \n",
       "2  I spent 3 months searching for a dog walker wh...    5.0   \n",
       "3  Just stayed here for a second time and overall...    4.0   \n",
       "4  For right now I would have to rate this specif...    1.0   \n",
       "\n",
       "                                            cleanTxt  sentiment  \n",
       "0  love store ive shopping year daughter amazing ...          1  \n",
       "1  ate lot burger time best burger ever aaa burge...          1  \n",
       "2  spent month searching dog walker first moved t...          1  \n",
       "3  stayed second time overall good two night room...          1  \n",
       "4  right would rate specific store one star drive...          0  "
      ]
     },
     "execution_count": 12,
     "metadata": {},
     "output_type": "execute_result"
    }
   ],
   "source": [
    "df.head(5)"
   ]
  },
  {
   "cell_type": "code",
   "execution_count": 13,
   "metadata": {},
   "outputs": [
    {
     "data": {
      "text/plain": [
       "1    66584\n",
       "0    40133\n",
       "Name: sentiment, dtype: int64"
      ]
     },
     "execution_count": 13,
     "metadata": {},
     "output_type": "execute_result"
    }
   ],
   "source": [
    "df.sentiment.value_counts()"
   ]
  },
  {
   "cell_type": "code",
   "execution_count": 14,
   "metadata": {
    "id": "qYUVmnCwLZ3s",
    "slideshow": {
     "slide_type": "fragment"
    }
   },
   "outputs": [],
   "source": [
    "df_train, df_test = model_selection.train_test_split(df, test_size=0.2)\n",
    "y_train = df_train[\"sentiment\"].values \n",
    "y_test = df_test[\"sentiment\"].values"
   ]
  },
  {
   "cell_type": "code",
   "execution_count": 15,
   "metadata": {
    "colab": {
     "base_uri": "https://localhost:8080/",
     "height": 55
    },
    "executionInfo": {
     "elapsed": 864,
     "status": "ok",
     "timestamp": 1597585871668,
     "user": {
      "displayName": "Sanjiv Das",
      "photoUrl": "https://lh3.googleusercontent.com/a-/AOh14GhgUU3RgThSxLUq6NKSN2tDGDl8IQdtHMvdaZPE=s64",
      "userId": "06377870171053566924"
     },
     "user_tz": 420
    },
    "id": "EFiThlkKLZ4P",
    "outputId": "0d88ab4b-d7c4-4450-fa77-5a3a302e9291",
    "slideshow": {
     "slide_type": "slide"
    }
   },
   "outputs": [],
   "source": [
    "# Create embeddings from data itself\n",
    "corpus = df_train[\"cleanTxt\"]\n",
    "\n",
    "## create list of lists of unigrams\n",
    "lst_corpus = []\n",
    "for string in corpus:\n",
    "    lst_words = string.split()\n",
    "    lst_grams = [\" \".join(lst_words[i:i+1]) for i in range(0, len(lst_words), 1)] \n",
    "    lst_corpus.append(lst_grams)"
   ]
  },
  {
   "cell_type": "code",
   "execution_count": 16,
   "metadata": {
    "colab": {
     "base_uri": "https://localhost:8080/",
     "height": 55
    },
    "executionInfo": {
     "elapsed": 864,
     "status": "ok",
     "timestamp": 1597585871668,
     "user": {
      "displayName": "Sanjiv Das",
      "photoUrl": "https://lh3.googleusercontent.com/a-/AOh14GhgUU3RgThSxLUq6NKSN2tDGDl8IQdtHMvdaZPE=s64",
      "userId": "06377870171053566924"
     },
     "user_tz": 420
    },
    "id": "EFiThlkKLZ4P",
    "outputId": "0d88ab4b-d7c4-4450-fa77-5a3a302e9291",
    "slideshow": {
     "slide_type": "slide"
    }
   },
   "outputs": [
    {
     "name": "stdout",
     "output_type": "stream",
     "text": [
      "Size of training corpus: 85373\n",
      "size of each element: 92 42\n"
     ]
    }
   ],
   "source": [
    "## detect bigrams and trigrams\n",
    "bigrams_detector = gensim.models.phrases.Phrases(lst_corpus, delimiter=\" \".encode(), min_count=5, threshold=10) \n",
    "bigrams_detector = gensim.models.phrases.Phraser(bigrams_detector)\n",
    "trigrams_detector = gensim.models.phrases.Phrases(bigrams_detector[lst_corpus],\n",
    "                                                  delimiter=\" \".encode(), min_count=5, threshold=10) \n",
    "trigrams_detector = gensim.models.phrases.Phraser(trigrams_detector)\n",
    "\n",
    "## Run this for bigrams (and trigrams, if desired)\n",
    "lst_corpus = list(bigrams_detector[lst_corpus]) \n",
    "# lst_corpus = list(trigrams_detector[lst_corpus])\n",
    "\n",
    "print(\"Size of training corpus:\", len(lst_corpus))\n",
    "print(\"size of each element:\", len(lst_corpus[0]), len(lst_corpus[1])) # print first two docs length\n",
    "# lst_corpus"
   ]
  },
  {
   "cell_type": "code",
   "execution_count": 17,
   "metadata": {
    "colab": {
     "base_uri": "https://localhost:8080/",
     "height": 55
    },
    "executionInfo": {
     "elapsed": 5698,
     "status": "ok",
     "timestamp": 1597585896142,
     "user": {
      "displayName": "Sanjiv Das",
      "photoUrl": "https://lh3.googleusercontent.com/a-/AOh14GhgUU3RgThSxLUq6NKSN2tDGDl8IQdtHMvdaZPE=s64",
      "userId": "06377870171053566924"
     },
     "user_tz": 420
    },
    "id": "1WBsjOb3LZ4V",
    "outputId": "f07aab16-29b8-46cf-dc27-7bbac3033600",
    "slideshow": {
     "slide_type": "slide"
    }
   },
   "outputs": [],
   "source": [
    "vector_size = 100\n",
    "nlp = gensim.models.word2vec.Word2Vec(lst_corpus, size=vector_size, window=8, min_count=1, sg=1, iter=30)"
   ]
  },
  {
   "cell_type": "markdown",
   "metadata": {},
   "source": [
    "### reduce dimension"
   ]
  },
  {
   "cell_type": "code",
   "execution_count": 18,
   "metadata": {},
   "outputs": [
    {
     "name": "stdout",
     "output_type": "stream",
     "text": [
      "[('uniteds', 0.6138536334037781), ('groupssavers', 0.571625292301178), ('iodas', 0.5676900148391724), ('moneymaking', 0.564327597618103), ('cept', 0.559897780418396)]\n"
     ]
    },
    {
     "name": "stderr",
     "output_type": "stream",
     "text": [
      "/Users/zhanfengzhao/opt/anaconda3/lib/python3.7/site-packages/ipykernel_launcher.py:3: DeprecationWarning: Call to deprecated `__getitem__` (Method will be removed in 4.0.0, use self.wv.__getitem__() instead).\n",
      "  This is separate from the ipykernel package so we can avoid doing imports until\n",
      "/Users/zhanfengzhao/opt/anaconda3/lib/python3.7/site-packages/ipykernel_launcher.py:4: DeprecationWarning: Call to deprecated `__getitem__` (Method will be removed in 4.0.0, use self.wv.__getitem__() instead).\n",
      "  after removing the cwd from sys.path.\n",
      "/Users/zhanfengzhao/opt/anaconda3/lib/python3.7/site-packages/ipykernel_launcher.py:5: DeprecationWarning: Call to deprecated `most_similar` (Method will be removed in 4.0.0, use self.wv.most_similar() instead).\n",
      "  \"\"\"\n",
      "/Users/zhanfengzhao/opt/anaconda3/lib/python3.7/site-packages/ipykernel_launcher.py:7: DeprecationWarning: Call to deprecated `most_similar` (Method will be removed in 4.0.0, use self.wv.most_similar() instead).\n",
      "  import sys\n",
      "/Users/zhanfengzhao/opt/anaconda3/lib/python3.7/site-packages/ipykernel_launcher.py:8: DeprecationWarning: Call to deprecated `__getitem__` (Method will be removed in 4.0.0, use self.wv.__getitem__() instead).\n",
      "  \n"
     ]
    },
    {
     "data": {
      "text/plain": [
       "(26, 100)"
      ]
     },
     "execution_count": 18,
     "metadata": {},
     "output_type": "execute_result"
    }
   ],
   "source": [
    "# Visualize word context\n",
    "word = \"profit\"\n",
    "vector_size = len(nlp[word])\n",
    "word_vec = nlp[word] # to see a sample word vector\n",
    "print(nlp.most_similar(word, topn=5))\n",
    "## word embedding\n",
    "tot_words = [word] + [j[0] for j in nlp.most_similar(word, topn=25)]\n",
    "X = nlp[tot_words]\n",
    "X.shape"
   ]
  },
  {
   "cell_type": "code",
   "execution_count": 19,
   "metadata": {
    "colab": {
     "base_uri": "https://localhost:8080/",
     "height": 131
    },
    "executionInfo": {
     "elapsed": 886,
     "status": "ok",
     "timestamp": 1597585950512,
     "user": {
      "displayName": "Sanjiv Das",
      "photoUrl": "https://lh3.googleusercontent.com/a-/AOh14GhgUU3RgThSxLUq6NKSN2tDGDl8IQdtHMvdaZPE=s64",
      "userId": "06377870171053566924"
     },
     "user_tz": 420
    },
    "id": "pQicJPbsLZ4a",
    "outputId": "655fabaf-6921-4605-8b1b-61b49d5380d5",
    "slideshow": {
     "slide_type": "slide"
    }
   },
   "outputs": [
    {
     "name": "stdout",
     "output_type": "stream",
     "text": [
      "(26, 3)\n"
     ]
    },
    {
     "name": "stderr",
     "output_type": "stream",
     "text": [
      "/Users/zhanfengzhao/opt/anaconda3/lib/python3.7/site-packages/pandas/core/indexing.py:670: SettingWithCopyWarning: \n",
      "A value is trying to be set on a copy of a slice from a DataFrame\n",
      "\n",
      "See the caveats in the documentation: https://pandas.pydata.org/pandas-docs/stable/user_guide/indexing.html#returning-a-view-versus-a-copy\n",
      "  iloc._setitem_with_indexer(indexer, value)\n"
     ]
    }
   ],
   "source": [
    "## Reduce dimensionality from vector_size to 3\n",
    "pca = manifold.TSNE(perplexity=40, n_components=3, init='pca') \n",
    "X = pca.fit_transform(X)\n",
    "print(X.shape)\n",
    "\n",
    "## make X into dataframe\n",
    "df_ = pd.DataFrame(X, index=tot_words, columns=[\"x\",\"y\",\"z\"]) \n",
    "df_[\"input\"] = 0\n",
    "df_[\"input\"].iloc[0:1] = 1\n"
   ]
  },
  {
   "cell_type": "code",
   "execution_count": 20,
   "metadata": {
    "colab": {
     "base_uri": "https://localhost:8080/",
     "height": 575
    },
    "executionInfo": {
     "elapsed": 666,
     "status": "ok",
     "timestamp": 1597585958276,
     "user": {
      "displayName": "Sanjiv Das",
      "photoUrl": "https://lh3.googleusercontent.com/a-/AOh14GhgUU3RgThSxLUq6NKSN2tDGDl8IQdtHMvdaZPE=s64",
      "userId": "06377870171053566924"
     },
     "user_tz": 420
    },
    "id": "gZU6FqI-LZ4d",
    "outputId": "93f8601d-dd53-47bc-ad5e-44a2151a2633",
    "slideshow": {
     "slide_type": "slide"
    }
   },
   "outputs": [
    {
     "data": {
      "image/png": "[encoded data removed]",
      "text/plain": [
       "<Figure size 720x720 with 1 Axes>"
      ]
     },
     "metadata": {
      "needs_background": "light"
     },
     "output_type": "display_data"
    }
   ],
   "source": [
    "## TSNE plot 3d\n",
    "from mpl_toolkits.mplot3d import Axes3D \n",
    "fig = figure(figsize=(10,10))\n",
    "ax = fig.add_subplot(111, projection='3d') \n",
    "ax.scatter(df_[df_[\"input\"]==0]['x'],\n",
    "df_[df_[\"input\"]==0]['y'],\n",
    "df_[df_[\"input\"]==0]['z'], c=\"black\") \n",
    "ax.scatter(df_[df_[\"input\"]==1]['x'],\n",
    "df_[df_[\"input\"]==1]['y'],\n",
    "df_[df_[\"input\"]==1]['z'], c=\"red\") \n",
    "ax.set(xlabel=None, ylabel=None, zlabel=None, xticklabels=[],\n",
    "yticklabels=[], zticklabels=[])\n",
    "for label, row in df_[[\"x\",\"y\",\"z\"]].iterrows():\n",
    "    x, y, z = row\n",
    "    ax.text(x, y, z, s=label)"
   ]
  },
  {
   "cell_type": "markdown",
   "metadata": {
    "id": "5-9efp2mrNOu",
    "slideshow": {
     "slide_type": "slide"
    }
   },
   "source": [
    "### neural network"
   ]
  },
  {
   "cell_type": "code",
   "execution_count": 21,
   "metadata": {},
   "outputs": [
    {
     "name": "stdout",
     "output_type": "stream",
     "text": [
      "Collecting transformers\n",
      "  Downloading transformers-4.0.0-py3-none-any.whl (1.4 MB)\n",
      "\u001b[K     |████████████████████████████████| 1.4 MB 6.0 MB/s eta 0:00:01\n",
      "\u001b[?25hRequirement already satisfied: requests in ./opt/anaconda3/lib/python3.7/site-packages (from transformers) (2.24.0)\n",
      "Requirement already satisfied: filelock in ./opt/anaconda3/lib/python3.7/site-packages (from transformers) (3.0.12)\n",
      "Requirement already satisfied: numpy in ./opt/anaconda3/lib/python3.7/site-packages (from transformers) (1.19.2)\n",
      "Requirement already satisfied: regex!=2019.12.17 in ./opt/anaconda3/lib/python3.7/site-packages (from transformers) (2020.10.15)\n",
      "Collecting sacremoses\n",
      "  Using cached sacremoses-0.0.43.tar.gz (883 kB)\n",
      "Collecting tokenizers==0.9.4\n",
      "  Downloading tokenizers-0.9.4-cp37-cp37m-macosx_10_11_x86_64.whl (2.0 MB)\n",
      "\u001b[K     |████████████████████████████████| 2.0 MB 18.8 MB/s eta 0:00:01\n",
      "\u001b[?25hRequirement already satisfied: packaging in ./opt/anaconda3/lib/python3.7/site-packages (from transformers) (20.4)\n",
      "Requirement already satisfied: tqdm>=4.27 in ./opt/anaconda3/lib/python3.7/site-packages (from transformers) (4.50.2)\n",
      "Requirement already satisfied: certifi>=2017.4.17 in ./opt/anaconda3/lib/python3.7/site-packages (from requests->transformers) (2020.6.20)\n",
      "Requirement already satisfied: urllib3!=1.25.0,!=1.25.1,<1.26,>=1.21.1 in ./opt/anaconda3/lib/python3.7/site-packages (from requests->transformers) (1.25.11)\n",
      "Requirement already satisfied: chardet<4,>=3.0.2 in ./opt/anaconda3/lib/python3.7/site-packages (from requests->transformers) (3.0.4)\n",
      "Requirement already satisfied: idna<3,>=2.5 in ./opt/anaconda3/lib/python3.7/site-packages (from requests->transformers) (2.10)\n",
      "Requirement already satisfied: six in ./opt/anaconda3/lib/python3.7/site-packages (from sacremoses->transformers) (1.15.0)\n",
      "Requirement already satisfied: click in ./opt/anaconda3/lib/python3.7/site-packages (from sacremoses->transformers) (7.1.2)\n",
      "Requirement already satisfied: joblib in ./opt/anaconda3/lib/python3.7/site-packages (from sacremoses->transformers) (0.17.0)\n",
      "Requirement already satisfied: pyparsing>=2.0.2 in ./opt/anaconda3/lib/python3.7/site-packages (from packaging->transformers) (2.4.7)\n",
      "Building wheels for collected packages: sacremoses\n",
      "  Building wheel for sacremoses (setup.py) ... \u001b[?25ldone\n",
      "\u001b[?25h  Created wheel for sacremoses: filename=sacremoses-0.0.43-py3-none-any.whl size=893259 sha256=67890e1927cf2a05be2905b5d717e9833bcfc7009357abd088c0fdbcc6c12d9b\n",
      "  Stored in directory: /Users/zhanfengzhao/Library/Caches/pip/wheels/69/09/d1/bf058f7d6fa0ecba2ce7c66be3b8d012beb4bf61a6e0c101c0\n",
      "Successfully built sacremoses\n",
      "Installing collected packages: sacremoses, tokenizers, transformers\n",
      "Successfully installed sacremoses-0.0.43 tokenizers-0.9.4 transformers-4.0.0\n"
     ]
    }
   ],
   "source": [
    "!pip install transformers"
   ]
  },
  {
   "cell_type": "code",
   "execution_count": 22,
   "metadata": {},
   "outputs": [
    {
     "name": "stderr",
     "output_type": "stream",
     "text": [
      "Neither PyTorch nor TensorFlow >= 2.0 have been found. Models won't be available and only tokenizers, configuration and file/data utilities can be used.\n"
     ]
    }
   ],
   "source": [
    "import transformers"
   ]
  },
  {
   "cell_type": "code",
   "execution_count": 23,
   "metadata": {},
   "outputs": [
    {
     "name": "stdout",
     "output_type": "stream",
     "text": [
      "Collecting tensorflow\n",
      "  Downloading tensorflow-2.3.1-cp37-cp37m-macosx_10_9_x86_64.whl (165.1 MB)\n",
      "\u001b[K     |████████████████████████████████| 165.1 MB 12.6 MB/s eta 0:00:01\n",
      "\u001b[?25hCollecting absl-py>=0.7.0\n",
      "  Downloading absl_py-0.11.0-py3-none-any.whl (127 kB)\n",
      "\u001b[K     |████████████████████████████████| 127 kB 20.4 MB/s eta 0:00:01\n",
      "\u001b[?25hCollecting protobuf>=3.9.2\n",
      "  Downloading protobuf-3.14.0-cp37-cp37m-macosx_10_9_x86_64.whl (1.0 MB)\n",
      "\u001b[K     |████████████████████████████████| 1.0 MB 8.2 MB/s eta 0:00:01\n",
      "\u001b[?25hCollecting tensorboard<3,>=2.3.0\n",
      "  Downloading tensorboard-2.4.0-py3-none-any.whl (10.6 MB)\n",
      "\u001b[K     |████████████████████████████████| 10.6 MB 15.1 MB/s eta 0:00:01\n",
      "\u001b[?25hCollecting numpy<1.19.0,>=1.16.0\n",
      "  Downloading numpy-1.18.5-cp37-cp37m-macosx_10_9_x86_64.whl (15.1 MB)\n",
      "\u001b[K     |████████████████████████████████| 15.1 MB 2.6 MB/s eta 0:00:01\n",
      "\u001b[?25hCollecting tensorflow-estimator<2.4.0,>=2.3.0\n",
      "  Downloading tensorflow_estimator-2.3.0-py2.py3-none-any.whl (459 kB)\n",
      "\u001b[K     |████████████████████████████████| 459 kB 14.0 MB/s eta 0:00:01\n",
      "\u001b[?25hCollecting h5py<2.11.0,>=2.10.0\n",
      "  Downloading h5py-2.10.0-cp37-cp37m-macosx_10_6_intel.whl (3.0 MB)\n",
      "\u001b[K     |████████████████████████████████| 3.0 MB 18.4 MB/s eta 0:00:01\n",
      "\u001b[?25hCollecting gast==0.3.3\n",
      "  Downloading gast-0.3.3-py2.py3-none-any.whl (9.7 kB)\n",
      "Requirement already satisfied: wheel>=0.26 in ./opt/anaconda3/lib/python3.7/site-packages (from tensorflow) (0.35.1)\n",
      "Collecting grpcio>=1.8.6\n",
      "  Downloading grpcio-1.34.0-cp37-cp37m-macosx_10_10_x86_64.whl (3.6 MB)\n",
      "\u001b[K     |████████████████████████████████| 3.6 MB 12.7 MB/s eta 0:00:01\n",
      "\u001b[?25hCollecting opt-einsum>=2.3.2\n",
      "  Downloading opt_einsum-3.3.0-py3-none-any.whl (65 kB)\n",
      "\u001b[K     |████████████████████████████████| 65 kB 7.0 MB/s  eta 0:00:01\n",
      "\u001b[?25hRequirement already satisfied: six>=1.12.0 in ./opt/anaconda3/lib/python3.7/site-packages (from tensorflow) (1.15.0)\n",
      "Collecting astunparse==1.6.3\n",
      "  Downloading astunparse-1.6.3-py2.py3-none-any.whl (12 kB)\n",
      "Collecting google-pasta>=0.1.8\n",
      "  Downloading google_pasta-0.2.0-py3-none-any.whl (57 kB)\n",
      "\u001b[K     |████████████████████████████████| 57 kB 10.1 MB/s eta 0:00:01\n",
      "\u001b[?25hCollecting wrapt>=1.11.1\n",
      "  Downloading wrapt-1.12.1.tar.gz (27 kB)\n",
      "Collecting termcolor>=1.1.0\n",
      "  Downloading termcolor-1.1.0.tar.gz (3.9 kB)\n",
      "Collecting keras-preprocessing<1.2,>=1.1.1\n",
      "  Downloading Keras_Preprocessing-1.1.2-py2.py3-none-any.whl (42 kB)\n",
      "\u001b[K     |████████████████████████████████| 42 kB 4.7 MB/s  eta 0:00:01\n",
      "\u001b[?25hRequirement already satisfied: requests<3,>=2.21.0 in ./opt/anaconda3/lib/python3.7/site-packages (from tensorboard<3,>=2.3.0->tensorflow) (2.24.0)\n",
      "Collecting google-auth-oauthlib<0.5,>=0.4.1\n",
      "  Downloading google_auth_oauthlib-0.4.2-py2.py3-none-any.whl (18 kB)\n",
      "Requirement already satisfied: setuptools>=41.0.0 in ./opt/anaconda3/lib/python3.7/site-packages (from tensorboard<3,>=2.3.0->tensorflow) (50.3.0.post20201103)\n",
      "Collecting tensorboard-plugin-wit>=1.6.0\n",
      "  Downloading tensorboard_plugin_wit-1.7.0-py3-none-any.whl (779 kB)\n",
      "\u001b[K     |████████████████████████████████| 779 kB 14.1 MB/s eta 0:00:01\n",
      "\u001b[?25hCollecting werkzeug>=0.11.15\n",
      "  Using cached Werkzeug-1.0.1-py2.py3-none-any.whl (298 kB)\n",
      "Collecting markdown>=2.6.8\n",
      "  Downloading Markdown-3.3.3-py3-none-any.whl (96 kB)\n",
      "\u001b[K     |████████████████████████████████| 96 kB 8.6 MB/s  eta 0:00:01\n",
      "\u001b[?25hCollecting google-auth<2,>=1.6.3\n",
      "  Downloading google_auth-1.23.0-py2.py3-none-any.whl (114 kB)\n",
      "\u001b[K     |████████████████████████████████| 114 kB 17.0 MB/s eta 0:00:01\n",
      "\u001b[?25hRequirement already satisfied: urllib3!=1.25.0,!=1.25.1,<1.26,>=1.21.1 in ./opt/anaconda3/lib/python3.7/site-packages (from requests<3,>=2.21.0->tensorboard<3,>=2.3.0->tensorflow) (1.25.11)\n",
      "Requirement already satisfied: certifi>=2017.4.17 in ./opt/anaconda3/lib/python3.7/site-packages (from requests<3,>=2.21.0->tensorboard<3,>=2.3.0->tensorflow) (2020.6.20)\n",
      "Requirement already satisfied: idna<3,>=2.5 in ./opt/anaconda3/lib/python3.7/site-packages (from requests<3,>=2.21.0->tensorboard<3,>=2.3.0->tensorflow) (2.10)\n",
      "Requirement already satisfied: chardet<4,>=3.0.2 in ./opt/anaconda3/lib/python3.7/site-packages (from requests<3,>=2.21.0->tensorboard<3,>=2.3.0->tensorflow) (3.0.4)\n",
      "Requirement already satisfied: requests-oauthlib>=0.7.0 in ./opt/anaconda3/lib/python3.7/site-packages (from google-auth-oauthlib<0.5,>=0.4.1->tensorboard<3,>=2.3.0->tensorflow) (1.3.0)\n",
      "Requirement already satisfied: importlib-metadata; python_version < \"3.8\" in ./opt/anaconda3/lib/python3.7/site-packages (from markdown>=2.6.8->tensorboard<3,>=2.3.0->tensorflow) (2.0.0)\n",
      "Collecting rsa<5,>=3.1.4; python_version >= \"3.5\"\n",
      "  Downloading rsa-4.6-py3-none-any.whl (47 kB)\n",
      "\u001b[K     |████████████████████████████████| 47 kB 6.6 MB/s  eta 0:00:01\n",
      "\u001b[?25hCollecting cachetools<5.0,>=2.0.0\n",
      "  Downloading cachetools-4.1.1-py3-none-any.whl (10 kB)\n",
      "Collecting pyasn1-modules>=0.2.1\n",
      "  Downloading pyasn1_modules-0.2.8-py2.py3-none-any.whl (155 kB)\n",
      "\u001b[K     |████████████████████████████████| 155 kB 16.0 MB/s eta 0:00:01\n",
      "\u001b[?25hRequirement already satisfied: oauthlib>=3.0.0 in ./opt/anaconda3/lib/python3.7/site-packages (from requests-oauthlib>=0.7.0->google-auth-oauthlib<0.5,>=0.4.1->tensorboard<3,>=2.3.0->tensorflow) (3.1.0)\n",
      "Requirement already satisfied: zipp>=0.5 in ./opt/anaconda3/lib/python3.7/site-packages (from importlib-metadata; python_version < \"3.8\"->markdown>=2.6.8->tensorboard<3,>=2.3.0->tensorflow) (3.4.0)\n",
      "Collecting pyasn1>=0.1.3\n",
      "  Downloading pyasn1-0.4.8-py2.py3-none-any.whl (77 kB)\n",
      "\u001b[K     |████████████████████████████████| 77 kB 13.4 MB/s eta 0:00:01\n",
      "\u001b[?25hBuilding wheels for collected packages: wrapt, termcolor\n",
      "  Building wheel for wrapt (setup.py) ... \u001b[?25ldone\n",
      "\u001b[?25h  Created wheel for wrapt: filename=wrapt-1.12.1-cp37-cp37m-macosx_10_9_x86_64.whl size=32432 sha256=ccc7dd0b0ffc9f4fb69515518516218f603fc5c1fbcc3827c66b8b9e15a1383a\n",
      "  Stored in directory: /Users/zhanfengzhao/Library/Caches/pip/wheels/62/76/4c/aa25851149f3f6d9785f6c869387ad82b3fd37582fa8147ac6\n",
      "  Building wheel for termcolor (setup.py) ... \u001b[?25ldone\n",
      "\u001b[?25h  Created wheel for termcolor: filename=termcolor-1.1.0-py3-none-any.whl size=4830 sha256=6ef335903637ca1b0a04af9eddd50b75307b746026bbb171e8fe77c60a0719e1\n",
      "  Stored in directory: /Users/zhanfengzhao/Library/Caches/pip/wheels/3f/e3/ec/8a8336ff196023622fbcb36de0c5a5c218cbb24111d1d4c7f2\n",
      "Successfully built wrapt termcolor\n",
      "Installing collected packages: absl-py, protobuf, pyasn1, rsa, cachetools, pyasn1-modules, google-auth, google-auth-oauthlib, grpcio, numpy, tensorboard-plugin-wit, werkzeug, markdown, tensorboard, tensorflow-estimator, h5py, gast, opt-einsum, astunparse, google-pasta, wrapt, termcolor, keras-preprocessing, tensorflow\n",
      "  Attempting uninstall: numpy\n",
      "    Found existing installation: numpy 1.19.2\n",
      "    Uninstalling numpy-1.19.2:\n",
      "      Successfully uninstalled numpy-1.19.2\n",
      "\u001b[31mERROR: After October 2020 you may experience errors when installing or updating packages. This is because pip will change the way that it resolves dependency conflicts.\n",
      "\n",
      "We recommend you use --use-feature=2020-resolver to test your packages with the new resolver before it becomes the default.\n",
      "\n",
      "quandl 3.5.0 requires more-itertools, which is not installed.\n",
      "pmdarima 1.5.3 requires Cython>=0.29, which is not installed.\u001b[0m\n",
      "Successfully installed absl-py-0.11.0 astunparse-1.6.3 cachetools-4.1.1 gast-0.3.3 google-auth-1.23.0 google-auth-oauthlib-0.4.2 google-pasta-0.2.0 grpcio-1.34.0 h5py-2.10.0 keras-preprocessing-1.1.2 markdown-3.3.3 numpy-1.18.5 opt-einsum-3.3.0 protobuf-3.14.0 pyasn1-0.4.8 pyasn1-modules-0.2.8 rsa-4.6 tensorboard-2.4.0 tensorboard-plugin-wit-1.7.0 tensorflow-2.3.1 tensorflow-estimator-2.3.0 termcolor-1.1.0 werkzeug-1.0.1 wrapt-1.12.1\n"
     ]
    }
   ],
   "source": [
    "!pip install tensorflow"
   ]
  },
  {
   "cell_type": "code",
   "execution_count": 24,
   "metadata": {},
   "outputs": [],
   "source": [
    "from tensorflow.keras import models, layers, preprocessing as kprocessing\n",
    "from tensorflow.keras import backend as K\n",
    "from tensorflow.keras.utils import plot_model\n",
    "import transformers"
   ]
  },
  {
   "cell_type": "code",
   "execution_count": 25,
   "metadata": {
    "colab": {
     "base_uri": "https://localhost:8080/",
     "height": 169
    },
    "executionInfo": {
     "elapsed": 304,
     "status": "ok",
     "timestamp": 1597585966795,
     "user": {
      "displayName": "Sanjiv Das",
      "photoUrl": "https://lh3.googleusercontent.com/a-/AOh14GhgUU3RgThSxLUq6NKSN2tDGDl8IQdtHMvdaZPE=s64",
      "userId": "06377870171053566924"
     },
     "user_tz": 420
    },
    "id": "b-o-gnP-LZ4h",
    "outputId": "077a81bd-002b-467a-d150-de2442ca9101",
    "slideshow": {
     "slide_type": "fragment"
    }
   },
   "outputs": [
    {
     "name": "stdout",
     "output_type": "stream",
     "text": [
      "85373\n"
     ]
    },
    {
     "data": {
      "text/plain": [
       "[612,\n",
       " 3184,\n",
       " 5722,\n",
       " 6,\n",
       " 323,\n",
       " 184,\n",
       " 84,\n",
       " 6494,\n",
       " 1175,\n",
       " 11648,\n",
       " 1350,\n",
       " 78,\n",
       " 434,\n",
       " 10,\n",
       " 13,\n",
       " 168,\n",
       " 25,\n",
       " 3050,\n",
       " 1103,\n",
       " 52754,\n",
       " 407,\n",
       " 2666,\n",
       " 410,\n",
       " 239,\n",
       " 107,\n",
       " 18,\n",
       " 22075,\n",
       " 5839,\n",
       " 26,\n",
       " 697,\n",
       " 142,\n",
       " 52755,\n",
       " 823,\n",
       " 52756,\n",
       " 1211,\n",
       " 52757,\n",
       " 567,\n",
       " 1406,\n",
       " 2500,\n",
       " 4767,\n",
       " 343,\n",
       " 270,\n",
       " 246,\n",
       " 1951,\n",
       " 890,\n",
       " 86,\n",
       " 3002,\n",
       " 59,\n",
       " 52758,\n",
       " 116,\n",
       " 3489,\n",
       " 10514,\n",
       " 7173,\n",
       " 52759,\n",
       " 78,\n",
       " 5972,\n",
       " 12364,\n",
       " 125,\n",
       " 2102,\n",
       " 660,\n",
       " 387,\n",
       " 15244,\n",
       " 567,\n",
       " 1104,\n",
       " 4767,\n",
       " 12752,\n",
       " 184,\n",
       " 35,\n",
       " 1061,\n",
       " 5973,\n",
       " 245,\n",
       " 4812,\n",
       " 14654,\n",
       " 7397,\n",
       " 1738,\n",
       " 559,\n",
       " 87,\n",
       " 332,\n",
       " 245,\n",
       " 1682,\n",
       " 620,\n",
       " 12365,\n",
       " 9231,\n",
       " 10,\n",
       " 1236,\n",
       " 4062,\n",
       " 1411,\n",
       " 13170,\n",
       " 22076,\n",
       " 12366,\n",
       " 72,\n",
       " 22]"
      ]
     },
     "execution_count": 25,
     "metadata": {},
     "output_type": "execute_result"
    }
   ],
   "source": [
    "## tokenize text, use keras processing\n",
    "tokenizer = kprocessing.text.Tokenizer(lower=True, split=' ', oov_token=\"NaN\", \n",
    "                                       filters='!\"#$%&()*+,-./:;<=>?@[\\\\]^_`{|}~\\t\\n') \n",
    "tokenizer.fit_on_texts(lst_corpus)\n",
    "vocab = tokenizer.word_index\n",
    "\n",
    "## create sequence\n",
    "lst_text2seq = tokenizer.texts_to_sequences(lst_corpus) # token ids for words in each doc\n",
    "print(len(lst_text2seq))\n",
    "lst_text2seq[0]"
   ]
  },
  {
   "cell_type": "code",
   "execution_count": 26,
   "metadata": {
    "colab": {
     "base_uri": "https://localhost:8080/",
     "height": 169
    },
    "executionInfo": {
     "elapsed": 304,
     "status": "ok",
     "timestamp": 1597585966795,
     "user": {
      "displayName": "Sanjiv Das",
      "photoUrl": "https://lh3.googleusercontent.com/a-/AOh14GhgUU3RgThSxLUq6NKSN2tDGDl8IQdtHMvdaZPE=s64",
      "userId": "06377870171053566924"
     },
     "user_tz": 420
    },
    "id": "b-o-gnP-LZ4h",
    "outputId": "077a81bd-002b-467a-d150-de2442ca9101",
    "slideshow": {
     "slide_type": "fragment"
    }
   },
   "outputs": [
    {
     "name": "stdout",
     "output_type": "stream",
     "text": [
      "[[  612  3184  5722 ...     0     0     0]\n",
      " [   94   561  6564 ...     0     0     0]\n",
      " [ 1225  6424   310 ...     0     0     0]\n",
      " ...\n",
      " [  276     5   300 ...     0     0     0]\n",
      " [  738 10940    76 ...    21  2063    48]\n",
      " [  145   235   164 ...     0     0     0]]\n",
      "(85373, 128)\n"
     ]
    }
   ],
   "source": [
    "# TRAIN DATASET\n",
    "## padding sequence\n",
    "max_seq_length = 128\n",
    "X_train = kprocessing.sequence.pad_sequences(lst_text2seq, maxlen=max_seq_length, padding=\"post\", truncating=\"post\")\n",
    "print(X_train)\n",
    "print(X_train.shape)"
   ]
  },
  {
   "cell_type": "code",
   "execution_count": 27,
   "metadata": {
    "colab": {
     "base_uri": "https://localhost:8080/",
     "height": 36
    },
    "executionInfo": {
     "elapsed": 306,
     "status": "ok",
     "timestamp": 1597585973559,
     "user": {
      "displayName": "Sanjiv Das",
      "photoUrl": "https://lh3.googleusercontent.com/a-/AOh14GhgUU3RgThSxLUq6NKSN2tDGDl8IQdtHMvdaZPE=s64",
      "userId": "06377870171053566924"
     },
     "user_tz": 420
    },
    "id": "wfSkY0NbLZ4k",
    "outputId": "6a5f970b-76ee-4e7a-88b7-314b03046222",
    "slideshow": {
     "slide_type": "slide"
    }
   },
   "outputs": [
    {
     "name": "stdout",
     "output_type": "stream",
     "text": [
      "21344\n"
     ]
    }
   ],
   "source": [
    "# TEST DATA SET\n",
    "# Create embeddings from data itself\n",
    "corpus = df_test[\"cleanTxt\"]\n",
    "\n",
    "## create list of lists of unigrams\n",
    "lst_corpus = []\n",
    "for string in corpus:\n",
    "    lst_words = string.split()\n",
    "    lst_grams = [\" \".join(lst_words[i:i+1]) for i in range(0, len(lst_words), 1)] \n",
    "    lst_corpus.append(lst_grams)\n",
    "\n",
    "# lst_corpus = list(bigrams_detector[lst_corpus]) # Use if we want bigrams\n",
    "# lst_corpus = list(trigrams_detector[lst_corpus]) # Use if we want trigrams\n",
    "print(len(lst_corpus))\n",
    "# lst_corpus"
   ]
  },
  {
   "cell_type": "code",
   "execution_count": 28,
   "metadata": {
    "colab": {
     "base_uri": "https://localhost:8080/",
     "height": 169
    },
    "executionInfo": {
     "elapsed": 237,
     "status": "ok",
     "timestamp": 1597585977659,
     "user": {
      "displayName": "Sanjiv Das",
      "photoUrl": "https://lh3.googleusercontent.com/a-/AOh14GhgUU3RgThSxLUq6NKSN2tDGDl8IQdtHMvdaZPE=s64",
      "userId": "06377870171053566924"
     },
     "user_tz": 420
    },
    "id": "Ol9__kVCLZ4p",
    "outputId": "d0469107-6aa9-4859-d8d2-f1f8977065f6",
    "slideshow": {
     "slide_type": "slide"
    }
   },
   "outputs": [
    {
     "name": "stdout",
     "output_type": "stream",
     "text": [
      "[[  106    45    23 ...     0     0     0]\n",
      " [  689    45    23 ...     0     0     0]\n",
      " [    3   889   171 ...     0     0     0]\n",
      " ...\n",
      " [  162   416    75 ...     0     0     0]\n",
      " [47715     7    98 ...     0     0     0]\n",
      " [ 1141  8722 17851 ...     0     0     0]]\n",
      "(21344, 128)\n"
     ]
    }
   ],
   "source": [
    "## create sequence\n",
    "lst_text2seq = tokenizer.texts_to_sequences(lst_corpus)\n",
    "\n",
    "## padding sequence\n",
    "X_test = kprocessing.sequence.pad_sequences(lst_text2seq, maxlen=max_seq_length, padding=\"post\", truncating=\"post\")\n",
    "print(X_test)\n",
    "print(X_test.shape)"
   ]
  },
  {
   "cell_type": "code",
   "execution_count": 29,
   "metadata": {
    "colab": {
     "base_uri": "https://localhost:8080/",
     "height": 94
    },
    "executionInfo": {
     "elapsed": 267,
     "status": "ok",
     "timestamp": 1597585981342,
     "user": {
      "displayName": "Sanjiv Das",
      "photoUrl": "https://lh3.googleusercontent.com/a-/AOh14GhgUU3RgThSxLUq6NKSN2tDGDl8IQdtHMvdaZPE=s64",
      "userId": "06377870171053566924"
     },
     "user_tz": 420
    },
    "id": "shrfxvEGLZ4r",
    "outputId": "113e7418-6724-4409-ed76-ce557c280e0e",
    "slideshow": {
     "slide_type": "slide"
    }
   },
   "outputs": [
    {
     "name": "stderr",
     "output_type": "stream",
     "text": [
      "/Users/zhanfengzhao/opt/anaconda3/lib/python3.7/site-packages/ipykernel_launcher.py:7: DeprecationWarning: Call to deprecated `__getitem__` (Method will be removed in 4.0.0, use self.wv.__getitem__() instead).\n",
      "  import sys\n"
     ]
    },
    {
     "name": "stdout",
     "output_type": "stream",
     "text": [
      "(105342, 100)\n"
     ]
    }
   ],
   "source": [
    "# Create embedding matrix (master list of embeddings from which we create the token embeddings for each doc)\n",
    "## start the matrix (length of vocabulary x vector size) with all 0s\n",
    "embeddings = zeros((len(vocab)+1, vector_size))\n",
    "for word,idx in vocab.items():\n",
    "    ## update the row with vector\n",
    "    try:\n",
    "        embeddings[idx] = nlp[word]\n",
    "    ## if word not in model then skip and the row stays all 0s\n",
    "    except:  \n",
    "        pass\n",
    "    \n",
    "print(embeddings.shape)  # This is vocab size V x N embedding dimension "
   ]
  },
  {
   "cell_type": "code",
   "execution_count": 30,
   "metadata": {
    "colab": {
     "base_uri": "https://localhost:8080/",
     "height": 55
    },
    "executionInfo": {
     "elapsed": 245,
     "status": "ok",
     "timestamp": 1597585984241,
     "user": {
      "displayName": "Sanjiv Das",
      "photoUrl": "https://lh3.googleusercontent.com/a-/AOh14GhgUU3RgThSxLUq6NKSN2tDGDl8IQdtHMvdaZPE=s64",
      "userId": "06377870171053566924"
     },
     "user_tz": 420
    },
    "id": "OlU6FuOrLZ4u",
    "outputId": "59d89bfa-0045-4848-f85f-4d4d29dae0e5",
    "slideshow": {
     "slide_type": "slide"
    }
   },
   "outputs": [
    {
     "name": "stdout",
     "output_type": "stream",
     "text": [
      "Index of dic[word]: 4056\n",
      "Embeddings[idx]: (100,) |vector\n"
     ]
    }
   ],
   "source": [
    "# Locate embedding index for a specific word\n",
    "print(\"Index of dic[word]:\", vocab['profit']) \n",
    "print(\"Embeddings[idx]:\", embeddings[vocab[word]].shape, \"|vector\")\n"
   ]
  },
  {
   "cell_type": "code",
   "execution_count": 31,
   "metadata": {
    "id": "72ubACeCLZ4x",
    "slideshow": {
     "slide_type": "fragment"
    }
   },
   "outputs": [],
   "source": [
    "## code attention layer\n",
    "def attention_layer(inputs, neurons):\n",
    "    x = layers.Permute((2,1))(inputs) \n",
    "    x = layers.Dense(neurons, activation=\"softmax\")(x) # 128x128+128=16512\n",
    "    x = layers.Permute((2,1), name=\"attention\")(x)\n",
    "    x = layers.multiply([inputs, x]) \n",
    "    return x"
   ]
  },
  {
   "cell_type": "code",
   "execution_count": 32,
   "metadata": {
    "colab": {
     "base_uri": "https://localhost:8080/",
     "height": 568
    },
    "executionInfo": {
     "elapsed": 2058,
     "status": "ok",
     "timestamp": 1597586037233,
     "user": {
      "displayName": "Sanjiv Das",
      "photoUrl": "https://lh3.googleusercontent.com/a-/AOh14GhgUU3RgThSxLUq6NKSN2tDGDl8IQdtHMvdaZPE=s64",
      "userId": "06377870171053566924"
     },
     "user_tz": 420
    },
    "id": "H1HNPOb3LZ40",
    "outputId": "5032adb3-bece-43a1-ca32-6402dc4e5bff",
    "scrolled": true,
    "slideshow": {
     "slide_type": "slide"
    }
   },
   "outputs": [
    {
     "name": "stdout",
     "output_type": "stream",
     "text": [
      "Model: \"functional_1\"\n",
      "__________________________________________________________________________________________________\n",
      "Layer (type)                    Output Shape         Param #     Connected to                     \n",
      "==================================================================================================\n",
      "input_1 (InputLayer)            [(None, 128)]        0                                            \n",
      "__________________________________________________________________________________________________\n",
      "embedding (Embedding)           (None, 128, 100)     10534200    input_1[0][0]                    \n",
      "__________________________________________________________________________________________________\n",
      "permute (Permute)               (None, 100, 128)     0           embedding[0][0]                  \n",
      "__________________________________________________________________________________________________\n",
      "dense (Dense)                   (None, 100, 128)     16512       permute[0][0]                    \n",
      "__________________________________________________________________________________________________\n",
      "attention (Permute)             (None, 128, 100)     0           dense[0][0]                      \n",
      "__________________________________________________________________________________________________\n",
      "multiply (Multiply)             (None, 128, 100)     0           embedding[0][0]                  \n",
      "                                                                 attention[0][0]                  \n",
      "__________________________________________________________________________________________________\n",
      "bidirectional (Bidirectional)   (None, 128, 256)     234496      multiply[0][0]                   \n",
      "__________________________________________________________________________________________________\n",
      "bidirectional_1 (Bidirectional) (None, 256)          394240      bidirectional[0][0]              \n",
      "__________________________________________________________________________________________________\n",
      "dense_1 (Dense)                 (None, 64)           16448       bidirectional_1[0][0]            \n",
      "__________________________________________________________________________________________________\n",
      "dense_2 (Dense)                 (None, 2)            130         dense_1[0][0]                    \n",
      "==================================================================================================\n",
      "Total params: 11,196,026\n",
      "Trainable params: 661,826\n",
      "Non-trainable params: 10,534,200\n",
      "__________________________________________________________________________________________________\n"
     ]
    }
   ],
   "source": [
    "## input\n",
    "x_in = layers.Input(shape=(max_seq_length,))\n",
    "## embedding\n",
    "x = layers.Embedding(input_dim=embeddings.shape[0],\n",
    "                     output_dim=embeddings.shape[1],  # VxN=1335900\n",
    "                     weights=[embeddings],\n",
    "                     input_length=max_seq_length, \n",
    "                     trainable=False)(x_in)\n",
    "## apply attention\n",
    "x = attention_layer(x, neurons=max_seq_length)\n",
    "## 2 layers of bidirectional lstm\n",
    "x = layers.Bidirectional(layers.LSTM(units=max_seq_length, dropout=0.2, return_sequences=True))(x)\n",
    "x = layers.Bidirectional(layers.LSTM(units=max_seq_length, dropout=0.2))(x)\n",
    "## final dense layers\n",
    "x = layers.Dense(64, activation='relu')(x)\n",
    "y_out = layers.Dense(2, activation='softmax')(x) \n",
    "## compile \n",
    "model = models.Model(x_in, y_out) \n",
    "model.compile(loss='sparse_categorical_crossentropy', optimizer='rmsprop', metrics=['accuracy']) \n",
    "model.summary()"
   ]
  },
  {
   "cell_type": "code",
   "execution_count": null,
   "metadata": {},
   "outputs": [],
   "source": [
    "#!pip install pydot\n",
    "#!pip install pydotplus\n",
    "#!pip install graphviz\n",
    "#plot_model(model)"
   ]
  },
  {
   "cell_type": "code",
   "execution_count": 33,
   "metadata": {
    "id": "Hjcnm2BxLZ42",
    "slideshow": {
     "slide_type": "slide"
    }
   },
   "outputs": [
    {
     "data": {
      "text/plain": [
       "array([0, 1, 1, ..., 0, 1, 1])"
      ]
     },
     "execution_count": 33,
     "metadata": {},
     "output_type": "execute_result"
    }
   ],
   "source": [
    "## encode y\n",
    "dic_y_mapping = {n:label for n,label in enumerate(np.unique(y_train))}\n",
    "inverse_dic = {v:k for k,v in dic_y_mapping.items()} \n",
    "y_train = np.array([inverse_dic[y] for y in y_train])\n",
    "y_train"
   ]
  },
  {
   "cell_type": "code",
   "execution_count": 34,
   "metadata": {
    "colab": {
     "base_uri": "https://localhost:8080/",
     "height": 207
    },
    "executionInfo": {
     "elapsed": 217768,
     "status": "ok",
     "timestamp": 1597586315366,
     "user": {
      "displayName": "Sanjiv Das",
      "photoUrl": "https://lh3.googleusercontent.com/a-/AOh14GhgUU3RgThSxLUq6NKSN2tDGDl8IQdtHMvdaZPE=s64",
      "userId": "06377870171053566924"
     },
     "user_tz": 420
    },
    "id": "g8E4iHKWLZ44",
    "outputId": "8c052071-3321-4967-e511-83d750f5506a",
    "slideshow": {
     "slide_type": "slide"
    }
   },
   "outputs": [
    {
     "name": "stdout",
     "output_type": "stream",
     "text": [
      "Epoch 1/5\n",
      "1868/1868 [==============================] - 484s 259ms/step - loss: 0.4370 - accuracy: 0.8044 - val_loss: 0.3405 - val_accuracy: 0.8501\n",
      "Epoch 2/5\n",
      "1868/1868 [==============================] - 471s 252ms/step - loss: 0.3239 - accuracy: 0.8662 - val_loss: 0.3019 - val_accuracy: 0.8771\n",
      "Epoch 3/5\n",
      "1868/1868 [==============================] - 462s 247ms/step - loss: 0.2761 - accuracy: 0.8863 - val_loss: 0.2604 - val_accuracy: 0.8942\n",
      "Epoch 4/5\n",
      "1868/1868 [==============================] - 728s 390ms/step - loss: 0.2629 - accuracy: 0.8930 - val_loss: 0.2636 - val_accuracy: 0.8889\n",
      "Epoch 5/5\n",
      "1868/1868 [==============================] - 467s 250ms/step - loss: 0.2526 - accuracy: 0.8974 - val_loss: 0.2814 - val_accuracy: 0.8913\n"
     ]
    }
   ],
   "source": [
    "## train\n",
    "training = model.fit(x=X_train, y=y_train, batch_size=32, epochs=5, shuffle=True, verbose=1, validation_split=0.3)"
   ]
  },
  {
   "cell_type": "code",
   "execution_count": 35,
   "metadata": {
    "colab": {
     "base_uri": "https://localhost:8080/",
     "height": 295
    },
    "executionInfo": {
     "elapsed": 755,
     "status": "ok",
     "timestamp": 1597586316129,
     "user": {
      "displayName": "Sanjiv Das",
      "photoUrl": "https://lh3.googleusercontent.com/a-/AOh14GhgUU3RgThSxLUq6NKSN2tDGDl8IQdtHMvdaZPE=s64",
      "userId": "06377870171053566924"
     },
     "user_tz": 420
    },
    "id": "ovCfdS0oLZ47",
    "outputId": "1d19bbab-2f3b-41ed-b9dc-1c00e6c426d8",
    "slideshow": {
     "slide_type": "slide"
    }
   },
   "outputs": [
    {
     "data": {
      "image/png": "[encoded data removed]",
      "text/plain": [
       "<Figure size 432x288 with 4 Axes>"
      ]
     },
     "metadata": {
      "needs_background": "light"
     },
     "output_type": "display_data"
    }
   ],
   "source": [
    "## plot loss and accuracy\n",
    "metrics = [k for k in training.history.keys() if (\"loss\" not in k) and (\"val\" not in k)]\n",
    "fig, ax = plt.subplots(nrows=1, ncols=2, sharey=True)\n",
    "ax[0].set(title=\"Training\")\n",
    "ax11 = ax[0].twinx() \n",
    "ax[0].plot(training.history['loss'], color='black') \n",
    "ax[0].set_xlabel('Epochs') \n",
    "ax[0].set_ylabel('Loss', color='black')\n",
    "for metric in metrics:\n",
    "    ax11.plot(training.history[metric], label=metric) \n",
    "ax11.set_ylabel(\"Score\", color='steelblue') \n",
    "ax11.legend()\n",
    "ax[1].set(title=\"Validation\")\n",
    "ax22 = ax[1].twinx() \n",
    "ax[1].plot(training.history['val_loss'], color='black') \n",
    "ax[1].set_xlabel('Epochs')\n",
    "ax[1].set_ylabel('Loss', color='black')\n",
    "for metric in metrics:\n",
    "    ax22.plot(training.history['val_'+metric], label=metric) \n",
    "ax22.set_ylabel(\"Score\", color=\"steelblue\")\n",
    "plt.show()"
   ]
  },
  {
   "cell_type": "code",
   "execution_count": 36,
   "metadata": {},
   "outputs": [],
   "source": [
    "predicted_prob = model.predict(X_test) \n",
    "#predicted_prob "
   ]
  },
  {
   "cell_type": "code",
   "execution_count": 37,
   "metadata": {},
   "outputs": [],
   "source": [
    "dic_y_mapping = {0:0, 1:1} \n",
    "predicted = [dic_y_mapping[argmax(pred)] for pred in predicted_prob] "
   ]
  },
  {
   "cell_type": "code",
   "execution_count": 38,
   "metadata": {
    "colab": {
     "base_uri": "https://localhost:8080/",
     "height": 360
    },
    "executionInfo": {
     "elapsed": 5282,
     "status": "ok",
     "timestamp": 1597586320662,
     "user": {
      "displayName": "Sanjiv Das",
      "photoUrl": "https://lh3.googleusercontent.com/a-/AOh14GhgUU3RgThSxLUq6NKSN2tDGDl8IQdtHMvdaZPE=s64",
      "userId": "06377870171053566924"
     },
     "user_tz": 420
    },
    "id": "ceab4CaALZ5C",
    "outputId": "f2211f8f-f7da-46ec-e2d6-869da56c0169",
    "scrolled": false
   },
   "outputs": [
    {
     "name": "stdout",
     "output_type": "stream",
     "text": [
      "Accuracy: 0.88\n",
      "Detail:\n",
      "              precision    recall  f1-score   support\n",
      "\n",
      "           0       0.80      0.90      0.85      8098\n",
      "           1       0.93      0.87      0.90     13246\n",
      "\n",
      "    accuracy                           0.88     21344\n",
      "   macro avg       0.87      0.88      0.87     21344\n",
      "weighted avg       0.88      0.88      0.88     21344\n",
      "\n",
      "[[ 7275   823]\n",
      " [ 1770 11476]]\n"
     ]
    }
   ],
   "source": [
    "from sklearn import metrics\n",
    "accuracy = metrics.accuracy_score(y_test, predicted) \n",
    "# auc = metrics.roc_auc_score(y_test, predicted_prob[:,1])  # only for binary classification\n",
    "print(\"Accuracy:\", round(accuracy,2))\n",
    "# print(\"Auc:\", round(auc,2))\n",
    "print(\"Detail:\") \n",
    "print(metrics.classification_report(y_test, predicted))\n",
    "cm = metrics.confusion_matrix(y_test, predicted)\n",
    "print(cm)"
   ]
  },
  {
   "cell_type": "code",
   "execution_count": null,
   "metadata": {},
   "outputs": [],
   "source": []
  }
 ],
 "metadata": {
  "kernelspec": {
   "display_name": "Python 3",
   "language": "python",
   "name": "python3"
  },
  "language_info": {
   "codemirror_mode": {
    "name": "ipython",
    "version": 3
   },
   "file_extension": ".py",
   "mimetype": "text/x-python",
   "name": "python",
   "nbconvert_exporter": "python",
   "pygments_lexer": "ipython3",
   "version": "3.7.4"
  }
 },
 "nbformat": 4,
 "nbformat_minor": 2
}
